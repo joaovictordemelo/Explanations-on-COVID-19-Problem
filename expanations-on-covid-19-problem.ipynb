{
 "cells": [
  {
   "cell_type": "markdown",
   "id": "blank-flour",
   "metadata": {
    "papermill": {
     "duration": 0.015458,
     "end_time": "2021-06-14T12:21:48.870604",
     "exception": false,
     "start_time": "2021-06-14T12:21:48.855146",
     "status": "completed"
    },
    "tags": []
   },
   "source": [
    "[<font size=\"5\">Description of COVID-19 Detection Problem</font>](#1)\n",
    "\n",
    "Five times more deadly than the flu, COVID-19 causes significant morbidity and mortality. Like other pneumonias, pulmonary infection with COVID-19 results in inflammation and fluid in the lungs. COVID-19 looks very similar to other viral and bacterial pneumonias on chest radiographs, which makes it difficult to diagnose. This computer vision model for detection and localization of COVID-19 would help doctors provide a quick and confident diagnosis. As a result, patients could get the right treatment before the most severe effects of the virus take hold.\n",
    "\n",
    "Currently, COVID-19 can be diagnosed via polymerase chain reaction to detect genetic material from the virus or chest radiograph. However, it can take a few hours and sometimes days before the molecular test results are back. By contrast, chest radiographs can be obtained in minutes. While guidelines exist to help radiologists differentiate COVID-19 from other types of infection, their assessments vary. In addition, non-radiologists could be supported with better localization of the disease, such as with a visual bounding box.\n",
    "\n",
    "In this competition, the task is to identify and localize COVID-19 abnormalities on chest radiographs. In particular, categorization of the radiographs as negative for pneumonia or typical, indeterminate, or atypical for COVID-19."
   ]
  },
  {
   "cell_type": "code",
   "execution_count": 1,
   "id": "entitled-sixth",
   "metadata": {
    "execution": {
     "iopub.execute_input": "2021-06-14T12:21:48.910717Z",
     "iopub.status.busy": "2021-06-14T12:21:48.909806Z",
     "iopub.status.idle": "2021-06-14T12:21:49.063639Z",
     "shell.execute_reply": "2021-06-14T12:21:49.064157Z",
     "shell.execute_reply.started": "2021-06-14T12:05:24.277260Z"
    },
    "papermill": {
     "duration": 0.179488,
     "end_time": "2021-06-14T12:21:49.064579",
     "exception": false,
     "start_time": "2021-06-14T12:21:48.885091",
     "status": "completed"
    },
    "tags": []
   },
   "outputs": [],
   "source": [
    "#first we import some important libraries\n",
    "import numpy as np #for using arrays and matrices\n",
    "import pandas as pd #for converting files to dataframe format, opening for example \n",
    "import matplotlib #for plotting graphs and tables\n",
    "import matplotlib.pyplot as plt\n",
    "import pydicom as dicom # Dicom (Digital Imaging) \n",
    "import os #allows us to use the operating system interation\n",
    "from tqdm import tqdm # allows you to output a smart progress bar by wrapping around any iterable"
   ]
  },
  {
   "cell_type": "markdown",
   "id": "wicked-rebel",
   "metadata": {
    "papermill": {
     "duration": 0.013754,
     "end_time": "2021-06-14T12:21:49.092390",
     "exception": false,
     "start_time": "2021-06-14T12:21:49.078636",
     "status": "completed"
    },
    "tags": []
   },
   "source": [
    "<font size=\"5\">Category of Radiographs </font>\n",
    "\n",
    "\n",
    "1. NEGATIVE FOR PNEUMONIA - No lung opacities\n",
    "\n",
    "2. TYPICAL APPEARANCE - Multifocal bilateral, peripheral opacities with rounded morphology, lower lung–predominant distribution\n",
    "\n",
    "3. INDETERMINATE APPEARANCE - Absence of typical findings AND unilateral, central or upper lung predominant distribution\n",
    "\n",
    "4. ATYPICAL APPEARANCE - Pneumothorax, pleural effusion, pulmonary edema, lobar consolidation, solitary lung nodule or mass, diffuse tiny nodules, cavity"
   ]
  },
  {
   "cell_type": "markdown",
   "id": "organic-thermal",
   "metadata": {
    "papermill": {
     "duration": 0.013728,
     "end_time": "2021-06-14T12:21:49.120579",
     "exception": false,
     "start_time": "2021-06-14T12:21:49.106851",
     "status": "completed"
    },
    "tags": []
   },
   "source": [
    "<font size =\"5\"> Data Files </font>\n",
    "\n",
    "\n",
    "1. train_study_level.csv - the train study-level metadata, with one row for each study, including correct labels.\n",
    "    \n",
    "2. train_image_level.csv - the train image-level metadata, with one row for each image, including both correct labels and any bounding boxes in a dictionary format. Some images in both test and train have multiple bounding boxes.\n",
    "    \n",
    "3. sample_submission.csv - a sample submission file containing all image- and study-level IDs.\n",
    "\n",
    "4. train folder - comprises 6334 chest scans in DICOM format, stored in paths with the form study/series/image\n",
    "    \n",
    "5. test folder - The hidden test dataset is of roughly the same scale as the training dataset. Studies in the test set may contain more than one label."
   ]
  },
  {
   "cell_type": "markdown",
   "id": "patent-reaction",
   "metadata": {
    "papermill": {
     "duration": 0.013742,
     "end_time": "2021-06-14T12:21:49.148427",
     "exception": false,
     "start_time": "2021-06-14T12:21:49.134685",
     "status": "completed"
    },
    "tags": []
   },
   "source": [
    "[<font size=\"5\">Interpretating the Problem </font>](#2)\n",
    "\n",
    "The problem is about classification and detection and we are told to find in a test set, a *bounding box*, which is a rectangular box for identifying or even, detecting where a certain object is, and also it's said to find a class.\n",
    "With the labels 'Negative for Pneumonia' 'Typical Appearance' 'Indeterminate Appearance' 'Atypical Appearance', we have to make a prediction string, for example:\n",
    "> atypical 1 0 0 1 1\n"
   ]
  },
  {
   "cell_type": "markdown",
   "id": "single-estate",
   "metadata": {
    "papermill": {
     "duration": 0.01342,
     "end_time": "2021-06-14T12:21:49.175572",
     "exception": false,
     "start_time": "2021-06-14T12:21:49.162152",
     "status": "completed"
    },
    "tags": []
   },
   "source": []
  },
  {
   "cell_type": "code",
   "execution_count": 2,
   "id": "trained-steal",
   "metadata": {
    "execution": {
     "iopub.execute_input": "2021-06-14T12:21:49.209217Z",
     "iopub.status.busy": "2021-06-14T12:21:49.207999Z",
     "iopub.status.idle": "2021-06-14T12:21:49.271773Z",
     "shell.execute_reply": "2021-06-14T12:21:49.272274Z",
     "shell.execute_reply.started": "2021-06-14T12:05:24.284743Z"
    },
    "papermill": {
     "duration": 0.082569,
     "end_time": "2021-06-14T12:21:49.272546",
     "exception": false,
     "start_time": "2021-06-14T12:21:49.189977",
     "status": "completed"
    },
    "tags": []
   },
   "outputs": [],
   "source": [
    "path = '/kaggle/input/siim-covid19-detection/'\n",
    "train_image_level = pd.read_csv(path + \"train_image_level.csv\")\n"
   ]
  },
  {
   "cell_type": "code",
   "execution_count": 3,
   "id": "covered-impossible",
   "metadata": {
    "execution": {
     "iopub.execute_input": "2021-06-14T12:21:49.304935Z",
     "iopub.status.busy": "2021-06-14T12:21:49.303833Z",
     "iopub.status.idle": "2021-06-14T12:21:49.323237Z",
     "shell.execute_reply": "2021-06-14T12:21:49.322430Z",
     "shell.execute_reply.started": "2021-06-14T12:05:24.330639Z"
    },
    "papermill": {
     "duration": 0.03704,
     "end_time": "2021-06-14T12:21:49.323462",
     "exception": false,
     "start_time": "2021-06-14T12:21:49.286422",
     "status": "completed"
    },
    "tags": []
   },
   "outputs": [
    {
     "name": "stdout",
     "output_type": "stream",
     "text": [
      "0       000a312787f2_image\n",
      "1       000c3a3f293f_image\n",
      "2       0012ff7358bc_image\n",
      "3       001398f4ff4f_image\n",
      "4       001bd15d1891_image\n",
      "               ...        \n",
      "6329    ffcc6edd9445_image\n",
      "6330    ffd91a2c4ca0_image\n",
      "6331    ffd9b6cf2961_image\n",
      "6332    ffdc682f7680_image\n",
      "6333    ffe942c8655f_image\n",
      "Name: id, Length: 6334, dtype: object\n"
     ]
    }
   ],
   "source": [
    "identity = train_image_level[\"id\"] #we will write an specific column, in this case id\n",
    "print(identity)\n",
    "\n",
    "#if we wanted to show the first two columns we would use train_image_level[\"id\", \"boxes\"]\n",
    "\n"
   ]
  },
  {
   "cell_type": "code",
   "execution_count": 4,
   "id": "second-maria",
   "metadata": {
    "execution": {
     "iopub.execute_input": "2021-06-14T12:21:49.363163Z",
     "iopub.status.busy": "2021-06-14T12:21:49.362069Z",
     "iopub.status.idle": "2021-06-14T12:21:49.431645Z",
     "shell.execute_reply": "2021-06-14T12:21:49.432172Z",
     "shell.execute_reply.started": "2021-06-14T12:05:24.338029Z"
    },
    "papermill": {
     "duration": 0.093486,
     "end_time": "2021-06-14T12:21:49.432400",
     "exception": false,
     "start_time": "2021-06-14T12:21:49.338914",
     "status": "completed"
    },
    "tags": []
   },
   "outputs": [
    {
     "data": {
      "text/html": [
       "<div>\n",
       "<style scoped>\n",
       "    .dataframe tbody tr th:only-of-type {\n",
       "        vertical-align: middle;\n",
       "    }\n",
       "\n",
       "    .dataframe tbody tr th {\n",
       "        vertical-align: top;\n",
       "    }\n",
       "\n",
       "    .dataframe thead th {\n",
       "        text-align: right;\n",
       "    }\n",
       "</style>\n",
       "<table border=\"1\" class=\"dataframe\">\n",
       "  <thead>\n",
       "    <tr style=\"text-align: right;\">\n",
       "      <th></th>\n",
       "      <th>id</th>\n",
       "      <th>boxes</th>\n",
       "      <th>label</th>\n",
       "      <th>StudyInstanceUID</th>\n",
       "    </tr>\n",
       "  </thead>\n",
       "  <tbody>\n",
       "    <tr>\n",
       "      <th>0</th>\n",
       "      <td>000a312787f2_image</td>\n",
       "      <td>[{'x': 789.28836, 'y': 582.43035, 'width': 102...</td>\n",
       "      <td>opacity 1 789.28836 582.43035 1815.94498 2499....</td>\n",
       "      <td>5776db0cec75</td>\n",
       "    </tr>\n",
       "    <tr>\n",
       "      <th>1</th>\n",
       "      <td>000c3a3f293f_image</td>\n",
       "      <td>NaN</td>\n",
       "      <td>none 1 0 0 1 1</td>\n",
       "      <td>ff0879eb20ed</td>\n",
       "    </tr>\n",
       "    <tr>\n",
       "      <th>2</th>\n",
       "      <td>0012ff7358bc_image</td>\n",
       "      <td>[{'x': 677.42216, 'y': 197.97662, 'width': 867...</td>\n",
       "      <td>opacity 1 677.42216 197.97662 1545.21983 1197....</td>\n",
       "      <td>9d514ce429a7</td>\n",
       "    </tr>\n",
       "    <tr>\n",
       "      <th>3</th>\n",
       "      <td>001398f4ff4f_image</td>\n",
       "      <td>[{'x': 2729, 'y': 2181.33331, 'width': 948.000...</td>\n",
       "      <td>opacity 1 2729 2181.33331 3677.00012 2785.33331</td>\n",
       "      <td>28dddc8559b2</td>\n",
       "    </tr>\n",
       "    <tr>\n",
       "      <th>4</th>\n",
       "      <td>001bd15d1891_image</td>\n",
       "      <td>[{'x': 623.23328, 'y': 1050, 'width': 714, 'he...</td>\n",
       "      <td>opacity 1 623.23328 1050 1337.23328 2156 opaci...</td>\n",
       "      <td>dfd9fdd85a3e</td>\n",
       "    </tr>\n",
       "    <tr>\n",
       "      <th>5</th>\n",
       "      <td>0022227f5adf_image</td>\n",
       "      <td>[{'x': 1857.2065, 'y': 508.30565, 'width': 376...</td>\n",
       "      <td>opacity 1 1857.2065 508.30565 2233.23384 907.8...</td>\n",
       "      <td>84543edc24c2</td>\n",
       "    </tr>\n",
       "    <tr>\n",
       "      <th>6</th>\n",
       "      <td>0023f02ae886_image</td>\n",
       "      <td>NaN</td>\n",
       "      <td>none 1 0 0 1 1</td>\n",
       "      <td>2fa400b873f5</td>\n",
       "    </tr>\n",
       "    <tr>\n",
       "      <th>7</th>\n",
       "      <td>002e9b2128d0_image</td>\n",
       "      <td>[{'x': 276.72917, 'y': 627.42968, 'width': 910...</td>\n",
       "      <td>opacity 1 276.72917 627.42968 1187.31776 2283....</td>\n",
       "      <td>0717c8ac304f</td>\n",
       "    </tr>\n",
       "  </tbody>\n",
       "</table>\n",
       "</div>"
      ],
      "text/plain": [
       "                   id                                              boxes  \\\n",
       "0  000a312787f2_image  [{'x': 789.28836, 'y': 582.43035, 'width': 102...   \n",
       "1  000c3a3f293f_image                                                NaN   \n",
       "2  0012ff7358bc_image  [{'x': 677.42216, 'y': 197.97662, 'width': 867...   \n",
       "3  001398f4ff4f_image  [{'x': 2729, 'y': 2181.33331, 'width': 948.000...   \n",
       "4  001bd15d1891_image  [{'x': 623.23328, 'y': 1050, 'width': 714, 'he...   \n",
       "5  0022227f5adf_image  [{'x': 1857.2065, 'y': 508.30565, 'width': 376...   \n",
       "6  0023f02ae886_image                                                NaN   \n",
       "7  002e9b2128d0_image  [{'x': 276.72917, 'y': 627.42968, 'width': 910...   \n",
       "\n",
       "                                               label StudyInstanceUID  \n",
       "0  opacity 1 789.28836 582.43035 1815.94498 2499....     5776db0cec75  \n",
       "1                                     none 1 0 0 1 1     ff0879eb20ed  \n",
       "2  opacity 1 677.42216 197.97662 1545.21983 1197....     9d514ce429a7  \n",
       "3    opacity 1 2729 2181.33331 3677.00012 2785.33331     28dddc8559b2  \n",
       "4  opacity 1 623.23328 1050 1337.23328 2156 opaci...     dfd9fdd85a3e  \n",
       "5  opacity 1 1857.2065 508.30565 2233.23384 907.8...     84543edc24c2  \n",
       "6                                     none 1 0 0 1 1     2fa400b873f5  \n",
       "7  opacity 1 276.72917 627.42968 1187.31776 2283....     0717c8ac304f  "
      ]
     },
     "execution_count": 4,
     "metadata": {},
     "output_type": "execute_result"
    }
   ],
   "source": [
    "train_image_level.describe()\n",
    "train_image_level.head(8) #we show the first 8 lines\n"
   ]
  },
  {
   "cell_type": "code",
   "execution_count": 5,
   "id": "absolute-display",
   "metadata": {
    "execution": {
     "iopub.execute_input": "2021-06-14T12:21:49.468983Z",
     "iopub.status.busy": "2021-06-14T12:21:49.467891Z",
     "iopub.status.idle": "2021-06-14T12:21:49.476176Z",
     "shell.execute_reply": "2021-06-14T12:21:49.476678Z",
     "shell.execute_reply.started": "2021-06-14T12:05:24.384976Z"
    },
    "papermill": {
     "duration": 0.029176,
     "end_time": "2021-06-14T12:21:49.476903",
     "exception": false,
     "start_time": "2021-06-14T12:21:49.447727",
     "status": "completed"
    },
    "tags": []
   },
   "outputs": [
    {
     "data": {
      "text/plain": [
       "id                                                 000a312787f2_image\n",
       "boxes               [{'x': 789.28836, 'y': 582.43035, 'width': 102...\n",
       "label               opacity 1 789.28836 582.43035 1815.94498 2499....\n",
       "StudyInstanceUID                                         5776db0cec75\n",
       "Name: 0, dtype: object"
      ]
     },
     "execution_count": 5,
     "metadata": {},
     "output_type": "execute_result"
    }
   ],
   "source": [
    "train_image_level.loc[0,:] #for showing the first row in all columsn\n",
    "#train_image_level.loc[row, column]\n"
   ]
  },
  {
   "cell_type": "markdown",
   "id": "manufactured-while",
   "metadata": {
    "papermill": {
     "duration": 0.01478,
     "end_time": "2021-06-14T12:21:49.506783",
     "exception": false,
     "start_time": "2021-06-14T12:21:49.492003",
     "status": "completed"
    },
    "tags": []
   },
   "source": [
    "[<font size=\"5\">Plotting in the Graphic Form </font>](#3)"
   ]
  },
  {
   "cell_type": "code",
   "execution_count": 6,
   "id": "premier-password",
   "metadata": {
    "execution": {
     "iopub.execute_input": "2021-06-14T12:21:49.542537Z",
     "iopub.status.busy": "2021-06-14T12:21:49.541432Z",
     "iopub.status.idle": "2021-06-14T12:21:49.548427Z",
     "shell.execute_reply": "2021-06-14T12:21:49.548923Z",
     "shell.execute_reply.started": "2021-06-14T12:05:24.392415Z"
    },
    "papermill": {
     "duration": 0.026226,
     "end_time": "2021-06-14T12:21:49.549134",
     "exception": false,
     "start_time": "2021-06-14T12:21:49.522908",
     "status": "completed"
    },
    "tags": []
   },
   "outputs": [],
   "source": [
    "#extraction of an image \n",
    "\n",
    "def extract_image(i):\n",
    "    path_train = path + 'train/' + training_set.loc[i, 'StudyInstanceUID']\n",
    "    last_folder_in_path = os.listdir(path_train)[0]\n",
    "    path_train = path_train + '/{}/'.format(last_folder_in_path)\n",
    "    img_id = training_set.loc[i, 'id_y'].replace('_image','.dcm')\n",
    "    print(img_id)\n",
    "    data_file = dicom.dcmread(path_train + img_id)\n",
    "    img = data_file.pixel_array\n",
    "    return img"
   ]
  },
  {
   "cell_type": "code",
   "execution_count": 7,
   "id": "damaged-connection",
   "metadata": {
    "execution": {
     "iopub.execute_input": "2021-06-14T12:21:49.603590Z",
     "iopub.status.busy": "2021-06-14T12:21:49.581972Z",
     "iopub.status.idle": "2021-06-14T12:21:50.895583Z",
     "shell.execute_reply": "2021-06-14T12:21:50.896032Z",
     "shell.execute_reply.started": "2021-06-14T12:05:24.405524Z"
    },
    "papermill": {
     "duration": 1.332229,
     "end_time": "2021-06-14T12:21:50.896228",
     "exception": false,
     "start_time": "2021-06-14T12:21:49.563999",
     "status": "completed"
    },
    "tags": []
   },
   "outputs": [
    {
     "data": {
      "image/png": "[encoded data removed]",
      "text/plain": [
       "<Figure size 1440x1440 with 12 Axes>"
      ]
     },
     "metadata": {
      "needs_background": "light"
     },
     "output_type": "display_data"
    }
   ],
   "source": [
    "fig, axes = plt.subplots(3,4, figsize=(20,20)) #create 4 figures in horizontal and 3 in vertical with size (x,y) = (20,20)\n",
    "fig.subplots_adjust(hspace=0.1, wspace=0.1) #(hspace, wspace) = (spacebetween two graphs in vertical, spacebetween two graphs in horizontal)\n",
    "\n",
    "#above are some explanation for the plotting in the problem\n",
    "#observe that figures are blank\n"
   ]
  },
  {
   "cell_type": "code",
   "execution_count": 8,
   "id": "coupled-pharmacology",
   "metadata": {
    "execution": {
     "iopub.execute_input": "2021-06-14T12:21:50.931326Z",
     "iopub.status.busy": "2021-06-14T12:21:50.930375Z",
     "iopub.status.idle": "2021-06-14T12:21:50.988365Z",
     "shell.execute_reply": "2021-06-14T12:21:50.987751Z",
     "shell.execute_reply.started": "2021-06-14T12:10:25.232885Z"
    },
    "papermill": {
     "duration": 0.076674,
     "end_time": "2021-06-14T12:21:50.988543",
     "exception": false,
     "start_time": "2021-06-14T12:21:50.911869",
     "status": "completed"
    },
    "tags": []
   },
   "outputs": [
    {
     "data": {
      "text/html": [
       "<div>\n",
       "<style scoped>\n",
       "    .dataframe tbody tr th:only-of-type {\n",
       "        vertical-align: middle;\n",
       "    }\n",
       "\n",
       "    .dataframe tbody tr th {\n",
       "        vertical-align: top;\n",
       "    }\n",
       "\n",
       "    .dataframe thead th {\n",
       "        text-align: right;\n",
       "    }\n",
       "</style>\n",
       "<table border=\"1\" class=\"dataframe\">\n",
       "  <thead>\n",
       "    <tr style=\"text-align: right;\">\n",
       "      <th></th>\n",
       "      <th>Negative for Pneumonia</th>\n",
       "      <th>Typical Appearance</th>\n",
       "      <th>Indeterminate Appearance</th>\n",
       "      <th>Atypical Appearance</th>\n",
       "      <th>id_y</th>\n",
       "      <th>boxes</th>\n",
       "      <th>label</th>\n",
       "      <th>StudyInstanceUID</th>\n",
       "    </tr>\n",
       "  </thead>\n",
       "  <tbody>\n",
       "    <tr>\n",
       "      <th>0</th>\n",
       "      <td>0</td>\n",
       "      <td>1</td>\n",
       "      <td>0</td>\n",
       "      <td>0</td>\n",
       "      <td>000a312787f2_image</td>\n",
       "      <td>[{'x': 789.28836, 'y': 582.43035, 'width': 102...</td>\n",
       "      <td>opacity 1 789.28836 582.43035 1815.94498 2499....</td>\n",
       "      <td>5776db0cec75</td>\n",
       "    </tr>\n",
       "    <tr>\n",
       "      <th>1</th>\n",
       "      <td>1</td>\n",
       "      <td>0</td>\n",
       "      <td>0</td>\n",
       "      <td>0</td>\n",
       "      <td>000c3a3f293f_image</td>\n",
       "      <td>NaN</td>\n",
       "      <td>none 1 0 0 1 1</td>\n",
       "      <td>ff0879eb20ed</td>\n",
       "    </tr>\n",
       "    <tr>\n",
       "      <th>2</th>\n",
       "      <td>0</td>\n",
       "      <td>1</td>\n",
       "      <td>0</td>\n",
       "      <td>0</td>\n",
       "      <td>0012ff7358bc_image</td>\n",
       "      <td>[{'x': 677.42216, 'y': 197.97662, 'width': 867...</td>\n",
       "      <td>opacity 1 677.42216 197.97662 1545.21983 1197....</td>\n",
       "      <td>9d514ce429a7</td>\n",
       "    </tr>\n",
       "    <tr>\n",
       "      <th>3</th>\n",
       "      <td>0</td>\n",
       "      <td>0</td>\n",
       "      <td>0</td>\n",
       "      <td>1</td>\n",
       "      <td>001398f4ff4f_image</td>\n",
       "      <td>[{'x': 2729, 'y': 2181.33331, 'width': 948.000...</td>\n",
       "      <td>opacity 1 2729 2181.33331 3677.00012 2785.33331</td>\n",
       "      <td>28dddc8559b2</td>\n",
       "    </tr>\n",
       "    <tr>\n",
       "      <th>4</th>\n",
       "      <td>0</td>\n",
       "      <td>1</td>\n",
       "      <td>0</td>\n",
       "      <td>0</td>\n",
       "      <td>001bd15d1891_image</td>\n",
       "      <td>[{'x': 623.23328, 'y': 1050, 'width': 714, 'he...</td>\n",
       "      <td>opacity 1 623.23328 1050 1337.23328 2156 opaci...</td>\n",
       "      <td>dfd9fdd85a3e</td>\n",
       "    </tr>\n",
       "    <tr>\n",
       "      <th>...</th>\n",
       "      <td>...</td>\n",
       "      <td>...</td>\n",
       "      <td>...</td>\n",
       "      <td>...</td>\n",
       "      <td>...</td>\n",
       "      <td>...</td>\n",
       "      <td>...</td>\n",
       "      <td>...</td>\n",
       "    </tr>\n",
       "    <tr>\n",
       "      <th>6329</th>\n",
       "      <td>1</td>\n",
       "      <td>0</td>\n",
       "      <td>0</td>\n",
       "      <td>0</td>\n",
       "      <td>ffcc6edd9445_image</td>\n",
       "      <td>NaN</td>\n",
       "      <td>none 1 0 0 1 1</td>\n",
       "      <td>7e6c68462e06</td>\n",
       "    </tr>\n",
       "    <tr>\n",
       "      <th>6330</th>\n",
       "      <td>1</td>\n",
       "      <td>0</td>\n",
       "      <td>0</td>\n",
       "      <td>0</td>\n",
       "      <td>ffd91a2c4ca0_image</td>\n",
       "      <td>NaN</td>\n",
       "      <td>none 1 0 0 1 1</td>\n",
       "      <td>8332bdaddb6e</td>\n",
       "    </tr>\n",
       "    <tr>\n",
       "      <th>6331</th>\n",
       "      <td>0</td>\n",
       "      <td>1</td>\n",
       "      <td>0</td>\n",
       "      <td>0</td>\n",
       "      <td>ffd9b6cf2961_image</td>\n",
       "      <td>[{'x': 2197.38566, 'y': 841.07361, 'width': 31...</td>\n",
       "      <td>opacity 1 2197.38566 841.07361 2513.80265 1292...</td>\n",
       "      <td>7eed9af03814</td>\n",
       "    </tr>\n",
       "    <tr>\n",
       "      <th>6332</th>\n",
       "      <td>0</td>\n",
       "      <td>1</td>\n",
       "      <td>0</td>\n",
       "      <td>0</td>\n",
       "      <td>ffdc682f7680_image</td>\n",
       "      <td>[{'x': 2729.27083, 'y': 332.26044, 'width': 14...</td>\n",
       "      <td>opacity 1 2729.27083 332.26044 4225.52099 2936...</td>\n",
       "      <td>a0cb0b96fb3d</td>\n",
       "    </tr>\n",
       "    <tr>\n",
       "      <th>6333</th>\n",
       "      <td>0</td>\n",
       "      <td>1</td>\n",
       "      <td>0</td>\n",
       "      <td>0</td>\n",
       "      <td>ffe942c8655f_image</td>\n",
       "      <td>[{'x': 208.86463, 'y': 91.53448, 'width': 450....</td>\n",
       "      <td>opacity 1 208.86463 91.53448 659.8321 719.5892...</td>\n",
       "      <td>7d82d53204b8</td>\n",
       "    </tr>\n",
       "  </tbody>\n",
       "</table>\n",
       "<p>6334 rows × 8 columns</p>\n",
       "</div>"
      ],
      "text/plain": [
       "      Negative for Pneumonia  Typical Appearance  Indeterminate Appearance  \\\n",
       "0                          0                   1                         0   \n",
       "1                          1                   0                         0   \n",
       "2                          0                   1                         0   \n",
       "3                          0                   0                         0   \n",
       "4                          0                   1                         0   \n",
       "...                      ...                 ...                       ...   \n",
       "6329                       1                   0                         0   \n",
       "6330                       1                   0                         0   \n",
       "6331                       0                   1                         0   \n",
       "6332                       0                   1                         0   \n",
       "6333                       0                   1                         0   \n",
       "\n",
       "      Atypical Appearance                id_y  \\\n",
       "0                       0  000a312787f2_image   \n",
       "1                       0  000c3a3f293f_image   \n",
       "2                       0  0012ff7358bc_image   \n",
       "3                       1  001398f4ff4f_image   \n",
       "4                       0  001bd15d1891_image   \n",
       "...                   ...                 ...   \n",
       "6329                    0  ffcc6edd9445_image   \n",
       "6330                    0  ffd91a2c4ca0_image   \n",
       "6331                    0  ffd9b6cf2961_image   \n",
       "6332                    0  ffdc682f7680_image   \n",
       "6333                    0  ffe942c8655f_image   \n",
       "\n",
       "                                                  boxes  \\\n",
       "0     [{'x': 789.28836, 'y': 582.43035, 'width': 102...   \n",
       "1                                                   NaN   \n",
       "2     [{'x': 677.42216, 'y': 197.97662, 'width': 867...   \n",
       "3     [{'x': 2729, 'y': 2181.33331, 'width': 948.000...   \n",
       "4     [{'x': 623.23328, 'y': 1050, 'width': 714, 'he...   \n",
       "...                                                 ...   \n",
       "6329                                                NaN   \n",
       "6330                                                NaN   \n",
       "6331  [{'x': 2197.38566, 'y': 841.07361, 'width': 31...   \n",
       "6332  [{'x': 2729.27083, 'y': 332.26044, 'width': 14...   \n",
       "6333  [{'x': 208.86463, 'y': 91.53448, 'width': 450....   \n",
       "\n",
       "                                                  label StudyInstanceUID  \n",
       "0     opacity 1 789.28836 582.43035 1815.94498 2499....     5776db0cec75  \n",
       "1                                        none 1 0 0 1 1     ff0879eb20ed  \n",
       "2     opacity 1 677.42216 197.97662 1545.21983 1197....     9d514ce429a7  \n",
       "3       opacity 1 2729 2181.33331 3677.00012 2785.33331     28dddc8559b2  \n",
       "4     opacity 1 623.23328 1050 1337.23328 2156 opaci...     dfd9fdd85a3e  \n",
       "...                                                 ...              ...  \n",
       "6329                                     none 1 0 0 1 1     7e6c68462e06  \n",
       "6330                                     none 1 0 0 1 1     8332bdaddb6e  \n",
       "6331  opacity 1 2197.38566 841.07361 2513.80265 1292...     7eed9af03814  \n",
       "6332  opacity 1 2729.27083 332.26044 4225.52099 2936...     a0cb0b96fb3d  \n",
       "6333  opacity 1 208.86463 91.53448 659.8321 719.5892...     7d82d53204b8  \n",
       "\n",
       "[6334 rows x 8 columns]"
      ]
     },
     "execution_count": 8,
     "metadata": {},
     "output_type": "execute_result"
    }
   ],
   "source": [
    "train_study_level = pd.read_csv(path + \"train_study_level.csv\")\n",
    "train_study_level_key = train_study_level.id.str[:-6]\n",
    "training_set = pd.merge(left = train_study_level, right = train_image_level, how = 'right', left_on = train_study_level_key, right_on = 'StudyInstanceUID')\n",
    "training_set.drop(['id_x'], axis = 1)\n"
   ]
  },
  {
   "cell_type": "code",
   "execution_count": 9,
   "id": "opened-report",
   "metadata": {
    "execution": {
     "iopub.execute_input": "2021-06-14T12:21:51.036770Z",
     "iopub.status.busy": "2021-06-14T12:21:51.035876Z",
     "iopub.status.idle": "2021-06-14T12:21:51.041105Z",
     "shell.execute_reply": "2021-06-14T12:21:51.040480Z",
     "shell.execute_reply.started": "2021-06-14T12:05:25.631388Z"
    },
    "papermill": {
     "duration": 0.035995,
     "end_time": "2021-06-14T12:21:51.041248",
     "exception": false,
     "start_time": "2021-06-14T12:21:51.005253",
     "status": "completed"
    },
    "tags": []
   },
   "outputs": [
    {
     "data": {
      "text/html": [
       "<div>\n",
       "<style scoped>\n",
       "    .dataframe tbody tr th:only-of-type {\n",
       "        vertical-align: middle;\n",
       "    }\n",
       "\n",
       "    .dataframe tbody tr th {\n",
       "        vertical-align: top;\n",
       "    }\n",
       "\n",
       "    .dataframe thead th {\n",
       "        text-align: right;\n",
       "    }\n",
       "</style>\n",
       "<table border=\"1\" class=\"dataframe\">\n",
       "  <thead>\n",
       "    <tr style=\"text-align: right;\">\n",
       "      <th></th>\n",
       "      <th>id_x</th>\n",
       "      <th>Negative for Pneumonia</th>\n",
       "      <th>Typical Appearance</th>\n",
       "      <th>Indeterminate Appearance</th>\n",
       "      <th>Atypical Appearance</th>\n",
       "      <th>id_y</th>\n",
       "      <th>boxes</th>\n",
       "      <th>label</th>\n",
       "      <th>StudyInstanceUID</th>\n",
       "    </tr>\n",
       "  </thead>\n",
       "  <tbody>\n",
       "    <tr>\n",
       "      <th>0</th>\n",
       "      <td>5776db0cec75_study</td>\n",
       "      <td>0</td>\n",
       "      <td>1</td>\n",
       "      <td>0</td>\n",
       "      <td>0</td>\n",
       "      <td>000a312787f2_image</td>\n",
       "      <td>[{'x': 789.28836, 'y': 582.43035, 'width': 102...</td>\n",
       "      <td>opacity 1 789.28836 582.43035 1815.94498 2499....</td>\n",
       "      <td>5776db0cec75</td>\n",
       "    </tr>\n",
       "    <tr>\n",
       "      <th>1</th>\n",
       "      <td>ff0879eb20ed_study</td>\n",
       "      <td>1</td>\n",
       "      <td>0</td>\n",
       "      <td>0</td>\n",
       "      <td>0</td>\n",
       "      <td>000c3a3f293f_image</td>\n",
       "      <td>NaN</td>\n",
       "      <td>none 1 0 0 1 1</td>\n",
       "      <td>ff0879eb20ed</td>\n",
       "    </tr>\n",
       "    <tr>\n",
       "      <th>2</th>\n",
       "      <td>9d514ce429a7_study</td>\n",
       "      <td>0</td>\n",
       "      <td>1</td>\n",
       "      <td>0</td>\n",
       "      <td>0</td>\n",
       "      <td>0012ff7358bc_image</td>\n",
       "      <td>[{'x': 677.42216, 'y': 197.97662, 'width': 867...</td>\n",
       "      <td>opacity 1 677.42216 197.97662 1545.21983 1197....</td>\n",
       "      <td>9d514ce429a7</td>\n",
       "    </tr>\n",
       "    <tr>\n",
       "      <th>3</th>\n",
       "      <td>28dddc8559b2_study</td>\n",
       "      <td>0</td>\n",
       "      <td>0</td>\n",
       "      <td>0</td>\n",
       "      <td>1</td>\n",
       "      <td>001398f4ff4f_image</td>\n",
       "      <td>[{'x': 2729, 'y': 2181.33331, 'width': 948.000...</td>\n",
       "      <td>opacity 1 2729 2181.33331 3677.00012 2785.33331</td>\n",
       "      <td>28dddc8559b2</td>\n",
       "    </tr>\n",
       "    <tr>\n",
       "      <th>4</th>\n",
       "      <td>dfd9fdd85a3e_study</td>\n",
       "      <td>0</td>\n",
       "      <td>1</td>\n",
       "      <td>0</td>\n",
       "      <td>0</td>\n",
       "      <td>001bd15d1891_image</td>\n",
       "      <td>[{'x': 623.23328, 'y': 1050, 'width': 714, 'he...</td>\n",
       "      <td>opacity 1 623.23328 1050 1337.23328 2156 opaci...</td>\n",
       "      <td>dfd9fdd85a3e</td>\n",
       "    </tr>\n",
       "  </tbody>\n",
       "</table>\n",
       "</div>"
      ],
      "text/plain": [
       "                 id_x  Negative for Pneumonia  Typical Appearance  \\\n",
       "0  5776db0cec75_study                       0                   1   \n",
       "1  ff0879eb20ed_study                       1                   0   \n",
       "2  9d514ce429a7_study                       0                   1   \n",
       "3  28dddc8559b2_study                       0                   0   \n",
       "4  dfd9fdd85a3e_study                       0                   1   \n",
       "\n",
       "   Indeterminate Appearance  Atypical Appearance                id_y  \\\n",
       "0                         0                    0  000a312787f2_image   \n",
       "1                         0                    0  000c3a3f293f_image   \n",
       "2                         0                    0  0012ff7358bc_image   \n",
       "3                         0                    1  001398f4ff4f_image   \n",
       "4                         0                    0  001bd15d1891_image   \n",
       "\n",
       "                                               boxes  \\\n",
       "0  [{'x': 789.28836, 'y': 582.43035, 'width': 102...   \n",
       "1                                                NaN   \n",
       "2  [{'x': 677.42216, 'y': 197.97662, 'width': 867...   \n",
       "3  [{'x': 2729, 'y': 2181.33331, 'width': 948.000...   \n",
       "4  [{'x': 623.23328, 'y': 1050, 'width': 714, 'he...   \n",
       "\n",
       "                                               label StudyInstanceUID  \n",
       "0  opacity 1 789.28836 582.43035 1815.94498 2499....     5776db0cec75  \n",
       "1                                     none 1 0 0 1 1     ff0879eb20ed  \n",
       "2  opacity 1 677.42216 197.97662 1545.21983 1197....     9d514ce429a7  \n",
       "3    opacity 1 2729 2181.33331 3677.00012 2785.33331     28dddc8559b2  \n",
       "4  opacity 1 623.23328 1050 1337.23328 2156 opaci...     dfd9fdd85a3e  "
      ]
     },
     "execution_count": 9,
     "metadata": {},
     "output_type": "execute_result"
    }
   ],
   "source": [
    "training_set.head()"
   ]
  },
  {
   "cell_type": "code",
   "execution_count": 10,
   "id": "smoking-franklin",
   "metadata": {
    "execution": {
     "iopub.execute_input": "2021-06-14T12:21:51.082154Z",
     "iopub.status.busy": "2021-06-14T12:21:51.081344Z",
     "iopub.status.idle": "2021-06-14T12:21:51.086455Z",
     "shell.execute_reply": "2021-06-14T12:21:51.085832Z",
     "shell.execute_reply.started": "2021-06-14T12:05:25.647071Z"
    },
    "papermill": {
     "duration": 0.028108,
     "end_time": "2021-06-14T12:21:51.086608",
     "exception": false,
     "start_time": "2021-06-14T12:21:51.058500",
     "status": "completed"
    },
    "tags": []
   },
   "outputs": [
    {
     "data": {
      "text/plain": [
       "'opacity 1 789.28836 582.43035 1815.94498 2499.73327 opacity 1 2245.91208 591.20528 3340.5737 2352.75472'"
      ]
     },
     "execution_count": 10,
     "metadata": {},
     "output_type": "execute_result"
    }
   ],
   "source": [
    "training_set.loc[0,'label'] #we show the row 0 with column label\n"
   ]
  },
  {
   "cell_type": "code",
   "execution_count": 11,
   "id": "furnished-exhibit",
   "metadata": {
    "execution": {
     "iopub.execute_input": "2021-06-14T12:21:51.125941Z",
     "iopub.status.busy": "2021-06-14T12:21:51.125264Z",
     "iopub.status.idle": "2021-06-14T12:21:51.128792Z",
     "shell.execute_reply": "2021-06-14T12:21:51.128238Z",
     "shell.execute_reply.started": "2021-06-14T12:05:25.667064Z"
    },
    "papermill": {
     "duration": 0.025195,
     "end_time": "2021-06-14T12:21:51.128932",
     "exception": false,
     "start_time": "2021-06-14T12:21:51.103737",
     "status": "completed"
    },
    "tags": []
   },
   "outputs": [],
   "source": [
    "#for a generic axes ax we have the following important functions\n",
    "\n",
    "#ax.set_xticklabels([]) #ticks just denoting data points on axes in this case [] blank\n",
    "#ax.set_yticklabels([]) #ticks just denoting data points on axes in this case [] blanck"
   ]
  },
  {
   "cell_type": "markdown",
   "id": "devoted-longer",
   "metadata": {
    "papermill": {
     "duration": 0.01717,
     "end_time": "2021-06-14T12:21:51.164383",
     "exception": false,
     "start_time": "2021-06-14T12:21:51.147213",
     "status": "completed"
    },
    "tags": []
   },
   "source": []
  }
 ],
 "metadata": {
  "kernelspec": {
   "display_name": "Python 3",
   "language": "python",
   "name": "python3"
  },
  "language_info": {
   "codemirror_mode": {
    "name": "ipython",
    "version": 3
   },
   "file_extension": ".py",
   "mimetype": "text/x-python",
   "name": "python",
   "nbconvert_exporter": "python",
   "pygments_lexer": "ipython3",
   "version": "3.7.10"
  },
  "papermill": {
   "default_parameters": {},
   "duration": 12.710146,
   "end_time": "2021-06-14T12:21:52.093674",
   "environment_variables": {},
   "exception": null,
   "input_path": "__notebook__.ipynb",
   "output_path": "__notebook__.ipynb",
   "parameters": {},
   "start_time": "2021-06-14T12:21:39.383528",
   "version": "2.3.3"
  }
 },
 "nbformat": 4,
 "nbformat_minor": 5
}
